{
  "cells": [
    {
      "cell_type": "code",
      "execution_count": null,
      "metadata": {
        "id": "aIbssD0iKFrf"
      },
      "outputs": [],
      "source": [
        "from google.colab import output as ooo\n",
        "\n",
        "import cv2\n",
        "import os\n",
        "import sys\n",
        "import torchvision\n",
        "import numpy as np\n",
        "import matplotlib.pyplot as plt\n",
        "import pandas as pd\n",
        "\n",
        "import torch\n",
        "import torch.nn as nn\n",
        "import torch.nn.functional as F\n",
        "\n",
        "from google.colab import drive\n",
        "drive.mount('/content/drive')\n",
        "\n",
        "ooo.clear()"
      ]
    },
    {
      "cell_type": "code",
      "execution_count": null,
      "metadata": {
        "id": "6WCkQhwyv0bE"
      },
      "outputs": [],
      "source": [
        "from tqdm.auto import tqdm"
      ]
    },
    {
      "cell_type": "code",
      "execution_count": null,
      "metadata": {
        "id": "1moJ8mI9KXQN"
      },
      "outputs": [],
      "source": [
        "def merge_channels(input_dir, output_dir):\n",
        "    with open(os.path.join(input_dir, 'image_counter.txt')) as file:\n",
        "        n = int(file.readline())\n",
        "    df = pd.read_csv(os.path.join(input_dir, 'description.csv'))\n",
        "    for index in tqdm(set(df['full_image_index'])):\n",
        "        image = []\n",
        "        colors = []\n",
        "        for color in ['b', 'g', 'r']:\n",
        "            path_name = df[(df['full_image_index'] == index) & (df['color'] == color)]['image_path']\n",
        "            path_name = path_name.tolist()[0]\n",
        "            path = os.path.join(input_dir, f'data/{path_name}')\n",
        "            colors.append(cv2.imread(os.path.join(input_dir, path), 0))\n",
        "        shape = colors[0].shape\n",
        "        image = np.zeros((shape[0], shape[1], 3), dtype=np.uint8)\n",
        "        for i in range(3):\n",
        "            image[:, :, i] = colors[i]\n",
        "        r = path_name[path_name.rfind('.'):]\n",
        "        path_name = path_name[:path_name.rfind('.') - 2]\n",
        "        cv2.imwrite(os.path.join(output_dir, path_name + r), image)"
      ]
    },
    {
      "cell_type": "code",
      "execution_count": null,
      "metadata": {
        "colab": {
          "base_uri": "https://localhost:8080/",
          "height": 49,
          "referenced_widgets": [
            "a1462bf6e0b74fe8b53ca7821057d55a",
            "02517c71f9094bdcbe0348367b87a4a7",
            "72776ba77a504fb9a0b23432e50ee16b",
            "df466d76e5364a28aca7eb4bf1607e50",
            "8f5aefa1bdcb407ebf7cdb81bc2ffed6",
            "63fdd9c922d74e27af054bf2792b965a",
            "bd0a4e80cded44a59010c67d265a28ad",
            "8e2dbcf553f94af8ac46ddc1f13af525",
            "f29a0ea5a445487a9de6d7c68a5377c1",
            "24477cc050564f9c81357835e1761043",
            "8e6e22a1c97b416b91663a27cea8802d"
          ]
        },
        "id": "XesGZRWnmPuK",
        "outputId": "8df4f072-9ca4-447c-eaa1-2688b50caf45"
      },
      "outputs": [
        {
          "output_type": "display_data",
          "data": {
            "text/plain": [
              "  0%|          | 0/100 [00:00<?, ?it/s]"
            ],
            "application/vnd.jupyter.widget-view+json": {
              "version_major": 2,
              "version_minor": 0,
              "model_id": "a1462bf6e0b74fe8b53ca7821057d55a"
            }
          },
          "metadata": {}
        }
      ],
      "source": [
        "merge_channels('/content/drive/MyDrive/python_split_image_by_ch', '/content/drive/MyDrive/cv1_output')"
      ]
    },
    {
      "cell_type": "code",
      "execution_count": null,
      "metadata": {
        "id": "R-Z4S4AE9Y3v"
      },
      "outputs": [],
      "source": [
        "model = torch.hub.load('ultralytics/yolov5', 'yolov5m')"
      ]
    },
    {
      "cell_type": "code",
      "execution_count": null,
      "metadata": {
        "id": "uDm1Jk-A9csB"
      },
      "outputs": [],
      "source": [
        "model.names"
      ]
    },
    {
      "cell_type": "code",
      "execution_count": null,
      "metadata": {
        "id": "UL_c-AacuaMv"
      },
      "outputs": [],
      "source": [
        "from pathlib import Path\n",
        "\n",
        "def find_car(input_dir, output_cars ='output.csv'):\n",
        "    model = torch.hub.load('ultralytics/yolov5', 'yolov5m')\n",
        "    model.classes = [2, 5, 7]\n",
        "    filenames = []\n",
        "    results = []\n",
        "    with open(os.path.join(input_dir, 'image_counter.txt')) as file:\n",
        "        n = int(file.readline())\n",
        "    df = pd.read_csv(os.path.join(input_dir, 'description.csv'))\n",
        "    for index in tqdm(set(df['full_image_index'])):\n",
        "        image = []\n",
        "        colors = []\n",
        "        for color in ['b', 'g', 'r']:\n",
        "            path_name = df[(df['full_image_index'] == index) & (df['color'] == color)]['image_path']\n",
        "            path_name = path_name.tolist()[0]\n",
        "            path = os.path.join(input_dir, f'data/{path_name}')\n",
        "            colors.append(cv2.imread(os.path.join(input_dir, path), 0))\n",
        "        shape = colors[0].shape\n",
        "        image = np.zeros((shape[0], shape[1], 3), dtype=np.uint8)\n",
        "        for i in range(3):\n",
        "            image[:, :, i] = colors[i]\n",
        "        r = path_name[path_name.rfind('.'):]\n",
        "        path_name = path_name[:path_name.rfind('.') - 2]\n",
        "        result = model(image)\n",
        "        results.append(True if len(result.xywh[0]) > 0 else False)\n",
        "        filenames.append(path_name + r)\n",
        "    path = Path(output_cars)\n",
        "    path.parent.mkdir(parents=True, exist_ok=True)  \n",
        "    df = pd.DataFrame({'filenames': filenames, 'car on image': results})\n",
        "    df.to_csv(path)\n"
      ]
    },
    {
      "cell_type": "code",
      "execution_count": null,
      "metadata": {
        "colab": {
          "base_uri": "https://localhost:8080/",
          "height": 281,
          "referenced_widgets": [
            "b03ec52c74ce4726bf0a231298d15c4a",
            "4fb1a7b022994cb581df75f2d6fa06ac",
            "995225e8c62841978f8fb2defefd0d9b",
            "90f6ab7f6b4a484c99dec800fbe6bada",
            "f370e8c0eb1d47e7a5991d19051005ec",
            "1413ebfe626b45b1a8452de1b14c0a2c",
            "95a1b41715c7469d9c0f6b984c847e28",
            "47313d55be634472998f405c78aa8879",
            "5507775bebfd421480d648c77d5b6728",
            "243dba3199da46849ea9fb62020ac797",
            "6cee41afbecb4889b9a32945ad53d477"
          ]
        },
        "id": "frHv34yU1Iwq",
        "outputId": "9db33a2f-7067-4ade-881f-17bedc02d65f"
      },
      "outputs": [
        {
          "name": "stderr",
          "output_type": "stream",
          "text": [
            "Using cache found in /root/.cache/torch/hub/ultralytics_yolov5_master\n",
            "\u001b[31m\u001b[1mrequirements:\u001b[0m PyYAML>=5.3.1 not found and is required by YOLOv5, attempting auto-update...\n",
            "Looking in indexes: https://pypi.org/simple, https://us-python.pkg.dev/colab-wheels/public/simple/\n",
            "Requirement already satisfied: PyYAML>=5.3.1 in /usr/local/lib/python3.7/dist-packages (6.0)\n",
            "\n",
            "\u001b[31m\u001b[1mrequirements:\u001b[0m 1 package updated per /root/.cache/torch/hub/ultralytics_yolov5_master/requirements.txt\n",
            "\u001b[31m\u001b[1mrequirements:\u001b[0m ⚠️ \u001b[1mRestart runtime or rerun command for updates to take effect\u001b[0m\n",
            "\n",
            "YOLOv5 🚀 2022-6-18 Python-3.7.13 torch-1.11.0+cu113 CPU\n",
            "\n",
            "Fusing layers... \n",
            "YOLOv5m summary: 290 layers, 21172173 parameters, 0 gradients\n",
            "Adding AutoShape... \n"
          ]
        },
        {
          "data": {
            "application/vnd.jupyter.widget-view+json": {
              "model_id": "b03ec52c74ce4726bf0a231298d15c4a",
              "version_major": 2,
              "version_minor": 0
            },
            "text/plain": [
              "  0%|          | 0/100 [00:00<?, ?it/s]"
            ]
          },
          "metadata": {},
          "output_type": "display_data"
        }
      ],
      "source": [
        "find_car('/content/drive/MyDrive/python_split_image_by_ch', '/content/drive/MyDrive/cv2_output.csv')"
      ]
    },
    {
      "cell_type": "code",
      "execution_count": null,
      "metadata": {
        "id": "SmduGnDN-54m"
      },
      "outputs": [],
      "source": [
        "df1 = pd.read_csv('/content/drive/MyDrive/cv2_output.csv')\n",
        "df2 = pd.read_csv('/content/drive/MyDrive/python_split_image_by_ch/val.csv')"
      ]
    },
    {
      "cell_type": "code",
      "execution_count": null,
      "metadata": {
        "colab": {
          "base_uri": "https://localhost:8080/"
        },
        "id": "nZHnWemz6BYv",
        "outputId": "f10894e4-63c1-4a32-8931-8f93f766829b"
      },
      "outputs": [
        {
          "name": "stdout",
          "output_type": "stream",
          "text": [
            "100\n"
          ]
        }
      ],
      "source": [
        "k = 1\n",
        "for name in df2['00001.jpg']:\n",
        "    res1 = df2[df2['00001.jpg'] == name]['False'].tolist()[0]\n",
        "    res2 = df1[df1['filenames'] == name]['car on image'].tolist()[0]\n",
        "    if res1 == res2:\n",
        "        k += 1\n",
        "    else:\n",
        "        print(res1, res2, name)\n",
        "\n",
        "print(k)"
      ]
    },
    {
      "cell_type": "code",
      "execution_count": null,
      "metadata": {
        "colab": {
          "base_uri": "https://localhost:8080/"
        },
        "id": "LBgwMpBR6DHX",
        "outputId": "d9e27b92-cba3-4218-ec2c-1440d92da09f"
      },
      "outputs": [
        {
          "name": "stdout",
          "output_type": "stream",
          "text": [
            "20.0\n"
          ]
        }
      ],
      "source": [
        "print(max(0, k - 60) * 20 / (100 - 60))"
      ]
    },
    {
      "cell_type": "code",
      "execution_count": null,
      "metadata": {
        "colab": {
          "base_uri": "https://localhost:8080/"
        },
        "id": "RViCQcCNk_Kr",
        "outputId": "65e8c645-f61d-4a30-a723-bdc7741819c5"
      },
      "outputs": [
        {
          "name": "stdout",
          "output_type": "stream",
          "text": [
            "Looking in indexes: https://pypi.org/simple, https://us-python.pkg.dev/colab-wheels/public/simple/\n",
            "Collecting colorthief\n",
            "  Downloading colorthief-0.2.1-py2.py3-none-any.whl (6.1 kB)\n",
            "Requirement already satisfied: Pillow in /usr/local/lib/python3.7/dist-packages (from colorthief) (7.1.2)\n",
            "Installing collected packages: colorthief\n",
            "Successfully installed colorthief-0.2.1\n"
          ]
        }
      ],
      "source": [
        "!pip install colorthief"
      ]
    },
    {
      "cell_type": "code",
      "execution_count": null,
      "metadata": {
        "id": "CFl_dMrl7Vda"
      },
      "outputs": [],
      "source": [
        "from scipy.cluster.vq import whiten, kmeans\n",
        "from collections import Counter\n",
        "from PIL import Image\n",
        "from IPython.display import display\n",
        "from google.colab.patches import cv2_imshow\n",
        "\n",
        "\n",
        "def calc_metric(image, x, y, w, h, visualize=False):\n",
        "    image = cv2.imread(image)\n",
        "    image = image[y + int(h / 6):y + h - int(h / 6), x + int(w / 6):x + w - int(w / 6)]\n",
        "    mx = 180\n",
        "    if h < w:\n",
        "        nw = min(mx, w)\n",
        "        image = cv2.resize(image, (nw, int(nw / w * h)))\n",
        "    else:\n",
        "        nh = min(mx, h)\n",
        "        image = cv2.resize(image, (int(nh / h * w), nh))\n",
        "    shape = image.shape\n",
        "    n = shape[0] * shape[1]\n",
        "    colors = image.reshape((n, 3))\n",
        "    mn = float('inf')\n",
        "    colors = colors.astype(np.int64)\n",
        "    ans = []\n",
        "    for r in range(15, 256, 16):\n",
        "        for g in range(15, 256, 16):\n",
        "            for b in range(15, 256, 16):\n",
        "                color = list(map(lambda z: z - 8, [r, g, b]))\n",
        "                rr, gg, bb = tuple(color)\n",
        "                color = sum([np.power(colors[:, i] - color[i], 2) for i in range(3)])\n",
        "                color.sort()\n",
        "                color = np.sum(color[:int(n * 0.4)])\n",
        "                ans.append((color, (rr, gg, bb)))\n",
        "    anses = list(sorted(ans, key=lambda z: z[0]))[:3]\n",
        "    ans = anses[1][1]\n",
        "    if visualize:\n",
        "        cv2_imshow(image)\n",
        "        holst = np.zeros((shape[0], shape[1], 3))\n",
        "        color = np.array(ans)\n",
        "        holst[:, :] += color\n",
        "        holst.astype(np.uint8)\n",
        "        cv2_imshow(holst)\n",
        "    return anses\n"
      ]
    },
    {
      "cell_type": "code",
      "execution_count": null,
      "metadata": {
        "colab": {
          "base_uri": "https://localhost:8080/",
          "height": 317
        },
        "id": "yZH58cM8NA-f",
        "outputId": "f7e8b95a-f4db-43f1-ca9e-f48466c06ee4"
      },
      "outputs": [
        {
          "output_type": "display_data",
          "data": {
            "text/plain": [
              "<PIL.Image.Image image mode=RGB size=150x150 at 0x7FD4886816D0>"
            ],
            "image/png": "[encoded data removed]"
          },
          "metadata": {}
        },
        {
          "output_type": "display_data",
          "data": {
            "text/plain": [
              "<PIL.Image.Image image mode=RGB size=150x150 at 0x7FD48BCA8890>"
            ],
            "image/png": "[encoded data removed]"
          },
          "metadata": {}
        }
      ],
      "source": [
        "colors = calc_metric('/content/drive/MyDrive/cv1_output/00010.jpg', 0, 0, 500, 500, visualize=True)"
      ]
    },
    {
      "cell_type": "code",
      "source": [
        "from pathlib import Path\n"
      ],
      "metadata": {
        "id": "ATC_0aKylP8k"
      },
      "execution_count": null,
      "outputs": []
    },
    {
      "cell_type": "code",
      "source": [
        "!pip install webcolors"
      ],
      "metadata": {
        "id": "TPNVw6q5jtHF",
        "outputId": "2df74d63-8e93-467c-fb87-77976f8349d2",
        "colab": {
          "base_uri": "https://localhost:8080/"
        }
      },
      "execution_count": null,
      "outputs": [
        {
          "output_type": "stream",
          "name": "stdout",
          "text": [
            "Looking in indexes: https://pypi.org/simple, https://us-python.pkg.dev/colab-wheels/public/simple/\n",
            "Collecting webcolors\n",
            "  Downloading webcolors-1.12-py3-none-any.whl (9.9 kB)\n",
            "Installing collected packages: webcolors\n",
            "Successfully installed webcolors-1.12\n"
          ]
        }
      ]
    },
    {
      "cell_type": "code",
      "source": [
        "import webcolors\n",
        "\n",
        "def closest_colour(requested_colour):\n",
        "    min_colours = {}\n",
        "    for key, name in webcolors.CSS3_HEX_TO_NAMES.items():\n",
        "        r_c, g_c, b_c = webcolors.hex_to_rgb(key)\n",
        "        rd = (r_c - requested_colour[0]) ** 2\n",
        "        gd = (g_c - requested_colour[1]) ** 2\n",
        "        bd = (b_c - requested_colour[2]) ** 2\n",
        "        min_colours[name] = (rd + gd + bd)\n",
        "    mn_colors = {}\n",
        "    for color in ['red', 'green', 'blue', 'black', 'white', 'yellow']:\n",
        "        if color in min_colours.keys():\n",
        "            z = min_colours[color]\n",
        "            mn_colors[z] = color\n",
        "    return mn_colors[min(mn_colors.keys())], z\n",
        "\n",
        "def get_colour_name(requested_colour):\n",
        "    try:\n",
        "        closest_name = actual_name = webcolors.rgb_to_name(requested_colour)\n",
        "    except ValueError:\n",
        "        closest_name = closest_colour(requested_colour)\n",
        "        actual_name = None\n",
        "    return actual_name, closest_name"
      ],
      "metadata": {
        "id": "ILPEBHuKjp3y"
      },
      "execution_count": null,
      "outputs": []
    },
    {
      "cell_type": "code",
      "source": [
        "import colorsys\n",
        "\n",
        "def find_color(input_dir, output_file=\"output_color.csv\"):\n",
        "    model = torch.hub.load('ultralytics/yolov5', 'yolov5m')\n",
        "    model.classes = [2, 5, 7]\n",
        "    color_dict = {'red': 'red', 'green': 'green', 'blue': 'blue_cyan',\n",
        "                  'black': 'black', 'white': 'white_silver', 'yellow': 'yellow'}\n",
        "    filenames = []\n",
        "    coloring = []\n",
        "    results = []\n",
        "    with open(os.path.join(input_dir, 'image_counter.txt')) as file:\n",
        "        n = int(file.readline())\n",
        "    df = pd.read_csv(os.path.join(input_dir, 'description.csv'))\n",
        "    for index in tqdm(list(set(df['full_image_index']))):\n",
        "        image = []\n",
        "        colors = []\n",
        "        for color in ['b', 'g', 'r']:\n",
        "            path_name = df[(df['full_image_index'] == index) & (df['color'] == color)]['image_path']\n",
        "            path_name = path_name.tolist()[0]\n",
        "            path = os.path.join(input_dir, f'data/{path_name}')\n",
        "            colors.append(cv2.imread(os.path.join(input_dir, path), 0))\n",
        "        shape = colors[0].shape\n",
        "        image = np.zeros((shape[0], shape[1], 3), dtype=np.uint8)\n",
        "        for i in range(3):\n",
        "            image[:, :, i] = colors[i]\n",
        "        r = path_name[path_name.rfind('.'):]\n",
        "        path_name = path_name[:path_name.rfind('.') - 2]\n",
        "        result = model(image).xywh[0]\n",
        "        result = [result[i].numpy() for i in range(len(result))]\n",
        "        x, y, w, h, *_ = list(sorted(result, key=lambda x: x[4]))[-1]\n",
        "        x, y, w, h = [int(i) for i in [x, y, w, h]]\n",
        "        x = int(x - w / 2)\n",
        "        y = int(y - y / 2)\n",
        "        Image.fromarray(image).save(os.path.join(input_dir, 'rrr' + r))\n",
        "        colorsss = calc_metric(os.path.join(input_dir, 'rrr' + r), x, y, w, h, visualize=False)\n",
        "        res = []\n",
        "        for i in range(3):\n",
        "            c_a, c_c = get_colour_name(colorsss[i][1])\n",
        "            if c_a is not None:\n",
        "                res.append((color_dict[c_a[0]], c_a[1]))\n",
        "            else:\n",
        "                res.append((color_dict[c_c[0]], c_c[1]))\n",
        "        res = list(sorted(res, key=lambda x: x[1]))[0][0]\n",
        "        results.append(res)\n",
        "        filenames.append(path_name + r)\n",
        "\n",
        "    path = Path(output_file)\n",
        "    path.parent.mkdir(parents=True, exist_ok=True)  \n",
        "    df = pd.DataFrame({'filenames': filenames, 'car on image': results})\n",
        "    df.to_csv(path)\n",
        "    return df"
      ],
      "metadata": {
        "id": "zvI9W7FVw3HF"
      },
      "execution_count": null,
      "outputs": []
    },
    {
      "cell_type": "code",
      "source": [
        "res = find_color('/content/drive/MyDrive/color_cars_train', '/content/drive/MyDrive/cv4_output.csv')"
      ],
      "metadata": {
        "colab": {
          "base_uri": "https://localhost:8080/",
          "height": 281,
          "referenced_widgets": [
            "d1efcf7d36b848f48a09ffdea11399b5",
            "5f5f47a0eb63404b93003cdb2b2bff13",
            "bdf583d4f09d4bd9a6bc6a629867923a",
            "e8257f64567647dfa649860081fd689a",
            "3408d8ddfed246499ff996ae09aaa096",
            "e7d44c4a6f634aa083bf2a916d9830c6",
            "c2655dafe4d04c6f91430c825c7760e5",
            "136a5306153244dc89c53d94e29a6b29",
            "8e8d56e240214eeb9d11603f7b7dcde0",
            "298997ca6c8c4a158a9e70028c4bd881",
            "6410b071e8224e3eb14064038b40c0c5"
          ]
        },
        "id": "6ebQvWvvAUr2",
        "outputId": "89cc1952-e66a-4dde-ddae-06e253d32782"
      },
      "execution_count": null,
      "outputs": [
        {
          "output_type": "stream",
          "name": "stderr",
          "text": [
            "Using cache found in /root/.cache/torch/hub/ultralytics_yolov5_master\n",
            "\u001b[31m\u001b[1mrequirements:\u001b[0m PyYAML>=5.3.1 not found and is required by YOLOv5, attempting auto-update...\n",
            "Looking in indexes: https://pypi.org/simple, https://us-python.pkg.dev/colab-wheels/public/simple/\n",
            "Requirement already satisfied: PyYAML>=5.3.1 in /usr/local/lib/python3.7/dist-packages (6.0)\n",
            "\n",
            "\u001b[31m\u001b[1mrequirements:\u001b[0m 1 package updated per /root/.cache/torch/hub/ultralytics_yolov5_master/requirements.txt\n",
            "\u001b[31m\u001b[1mrequirements:\u001b[0m ⚠️ \u001b[1mRestart runtime or rerun command for updates to take effect\u001b[0m\n",
            "\n",
            "YOLOv5 🚀 2022-6-18 Python-3.7.13 torch-1.11.0+cu113 CPU\n",
            "\n",
            "Fusing layers... \n",
            "YOLOv5m summary: 290 layers, 21172173 parameters, 0 gradients\n",
            "Adding AutoShape... \n"
          ]
        },
        {
          "output_type": "display_data",
          "data": {
            "text/plain": [
              "  0%|          | 0/96 [00:00<?, ?it/s]"
            ],
            "application/vnd.jupyter.widget-view+json": {
              "version_major": 2,
              "version_minor": 0,
              "model_id": "d1efcf7d36b848f48a09ffdea11399b5"
            }
          },
          "metadata": {}
        }
      ]
    },
    {
      "cell_type": "code",
      "source": [
        "df1 = pd.read_csv('/content/drive/MyDrive/color_cars_train/colors.csv')\n",
        "df2 = pd.read_csv('/content/drive/MyDrive/cv4_output.csv')"
      ],
      "metadata": {
        "id": "HIzCtPuHWNWG"
      },
      "execution_count": null,
      "outputs": []
    },
    {
      "cell_type": "code",
      "source": [
        "df1[df1['00001.jpg'] == '00015.jpg']"
      ],
      "metadata": {
        "colab": {
          "base_uri": "https://localhost:8080/",
          "height": 81
        },
        "id": "cF7gsmAyNV-O",
        "outputId": "bf34fc92-8d61-4f91-bfd9-e413352c97c1"
      },
      "execution_count": null,
      "outputs": [
        {
          "output_type": "execute_result",
          "data": {
            "text/plain": [
              "    00001.jpg yellow\n",
              "13  00015.jpg  green"
            ],
            "text/html": [
              "\n",
              "  <div id=\"df-1a9262d3-1d94-45a9-9c1d-9f5165eef180\">\n",
              "    <div class=\"colab-df-container\">\n",
              "      <div>\n",
              "<style scoped>\n",
              "    .dataframe tbody tr th:only-of-type {\n",
              "        vertical-align: middle;\n",
              "    }\n",
              "\n",
              "    .dataframe tbody tr th {\n",
              "        vertical-align: top;\n",
              "    }\n",
              "\n",
              "    .dataframe thead th {\n",
              "        text-align: right;\n",
              "    }\n",
              "</style>\n",
              "<table border=\"1\" class=\"dataframe\">\n",
              "  <thead>\n",
              "    <tr style=\"text-align: right;\">\n",
              "      <th></th>\n",
              "      <th>00001.jpg</th>\n",
              "      <th>yellow</th>\n",
              "    </tr>\n",
              "  </thead>\n",
              "  <tbody>\n",
              "    <tr>\n",
              "      <th>13</th>\n",
              "      <td>00015.jpg</td>\n",
              "      <td>green</td>\n",
              "    </tr>\n",
              "  </tbody>\n",
              "</table>\n",
              "</div>\n",
              "      <button class=\"colab-df-convert\" onclick=\"convertToInteractive('df-1a9262d3-1d94-45a9-9c1d-9f5165eef180')\"\n",
              "              title=\"Convert this dataframe to an interactive table.\"\n",
              "              style=\"display:none;\">\n",
              "        \n",
              "  <svg xmlns=\"http://www.w3.org/2000/svg\" height=\"24px\"viewBox=\"0 0 24 24\"\n",
              "       width=\"24px\">\n",
              "    <path d=\"M0 0h24v24H0V0z\" fill=\"none\"/>\n",
              "    <path d=\"M18.56 5.44l.94 2.06.94-2.06 2.06-.94-2.06-.94-.94-2.06-.94 2.06-2.06.94zm-11 1L8.5 8.5l.94-2.06 2.06-.94-2.06-.94L8.5 2.5l-.94 2.06-2.06.94zm10 10l.94 2.06.94-2.06 2.06-.94-2.06-.94-.94-2.06-.94 2.06-2.06.94z\"/><path d=\"M17.41 7.96l-1.37-1.37c-.4-.4-.92-.59-1.43-.59-.52 0-1.04.2-1.43.59L10.3 9.45l-7.72 7.72c-.78.78-.78 2.05 0 2.83L4 21.41c.39.39.9.59 1.41.59.51 0 1.02-.2 1.41-.59l7.78-7.78 2.81-2.81c.8-.78.8-2.07 0-2.86zM5.41 20L4 18.59l7.72-7.72 1.47 1.35L5.41 20z\"/>\n",
              "  </svg>\n",
              "      </button>\n",
              "      \n",
              "  <style>\n",
              "    .colab-df-container {\n",
              "      display:flex;\n",
              "      flex-wrap:wrap;\n",
              "      gap: 12px;\n",
              "    }\n",
              "\n",
              "    .colab-df-convert {\n",
              "      background-color: #E8F0FE;\n",
              "      border: none;\n",
              "      border-radius: 50%;\n",
              "      cursor: pointer;\n",
              "      display: none;\n",
              "      fill: #1967D2;\n",
              "      height: 32px;\n",
              "      padding: 0 0 0 0;\n",
              "      width: 32px;\n",
              "    }\n",
              "\n",
              "    .colab-df-convert:hover {\n",
              "      background-color: #E2EBFA;\n",
              "      box-shadow: 0px 1px 2px rgba(60, 64, 67, 0.3), 0px 1px 3px 1px rgba(60, 64, 67, 0.15);\n",
              "      fill: #174EA6;\n",
              "    }\n",
              "\n",
              "    [theme=dark] .colab-df-convert {\n",
              "      background-color: #3B4455;\n",
              "      fill: #D2E3FC;\n",
              "    }\n",
              "\n",
              "    [theme=dark] .colab-df-convert:hover {\n",
              "      background-color: #434B5C;\n",
              "      box-shadow: 0px 1px 3px 1px rgba(0, 0, 0, 0.15);\n",
              "      filter: drop-shadow(0px 1px 2px rgba(0, 0, 0, 0.3));\n",
              "      fill: #FFFFFF;\n",
              "    }\n",
              "  </style>\n",
              "\n",
              "      <script>\n",
              "        const buttonEl =\n",
              "          document.querySelector('#df-1a9262d3-1d94-45a9-9c1d-9f5165eef180 button.colab-df-convert');\n",
              "        buttonEl.style.display =\n",
              "          google.colab.kernel.accessAllowed ? 'block' : 'none';\n",
              "\n",
              "        async function convertToInteractive(key) {\n",
              "          const element = document.querySelector('#df-1a9262d3-1d94-45a9-9c1d-9f5165eef180');\n",
              "          const dataTable =\n",
              "            await google.colab.kernel.invokeFunction('convertToInteractive',\n",
              "                                                     [key], {});\n",
              "          if (!dataTable) return;\n",
              "\n",
              "          const docLinkHtml = 'Like what you see? Visit the ' +\n",
              "            '<a target=\"_blank\" href=https://colab.research.google.com/notebooks/data_table.ipynb>data table notebook</a>'\n",
              "            + ' to learn more about interactive tables.';\n",
              "          element.innerHTML = '';\n",
              "          dataTable['output_type'] = 'display_data';\n",
              "          await google.colab.output.renderOutput(dataTable, element);\n",
              "          const docLink = document.createElement('div');\n",
              "          docLink.innerHTML = docLinkHtml;\n",
              "          element.appendChild(docLink);\n",
              "        }\n",
              "      </script>\n",
              "    </div>\n",
              "  </div>\n",
              "  "
            ]
          },
          "metadata": {},
          "execution_count": 297
        }
      ]
    },
    {
      "cell_type": "code",
      "source": [
        "df1[df1['00001.jpg'] == '00003.jpg']['yellow'].tolist()[0]"
      ],
      "metadata": {
        "id": "SpnESmvao4Mq",
        "outputId": "ab45a5cd-31cf-4f4c-819b-41dcdec0092a",
        "colab": {
          "base_uri": "https://localhost:8080/",
          "height": 35
        }
      },
      "execution_count": null,
      "outputs": [
        {
          "output_type": "execute_result",
          "data": {
            "text/plain": [
              "'green'"
            ],
            "application/vnd.google.colaboratory.intrinsic+json": {
              "type": "string"
            }
          },
          "metadata": {},
          "execution_count": 298
        }
      ]
    },
    {
      "cell_type": "code",
      "source": [
        "df1"
      ],
      "metadata": {
        "id": "ZInFXxSpWksX"
      },
      "execution_count": null,
      "outputs": []
    },
    {
      "cell_type": "code",
      "source": [
        "df2"
      ],
      "metadata": {
        "id": "IfGBxD89WoFB"
      },
      "execution_count": null,
      "outputs": []
    },
    {
      "cell_type": "code",
      "source": [
        "k = 0\n",
        "for name in df1['00001.jpg']:\n",
        "    if df1[df1['00001.jpg'] == name]['yellow'].tolist()[0] == df2[df2['filenames'] == name]['car on image'].tolist()[0]:\n",
        "        k += 1"
      ],
      "metadata": {
        "id": "6MorFrOMoLDC"
      },
      "execution_count": null,
      "outputs": []
    },
    {
      "cell_type": "code",
      "source": [
        "n = 95"
      ],
      "metadata": {
        "id": "oQITCoo2pPLO"
      },
      "execution_count": null,
      "outputs": []
    },
    {
      "cell_type": "code",
      "source": [
        "k"
      ],
      "metadata": {
        "id": "NlKJZCzZSB7N",
        "outputId": "93d8b18a-ed68-4ea2-b939-5e32c20a743a",
        "colab": {
          "base_uri": "https://localhost:8080/"
        }
      },
      "execution_count": null,
      "outputs": [
        {
          "output_type": "execute_result",
          "data": {
            "text/plain": [
              "49"
            ]
          },
          "metadata": {},
          "execution_count": 863
        }
      ]
    },
    {
      "cell_type": "code",
      "source": [
        "max(0, k - 0.2 * n) * 40 / (n - 0.2 * n)"
      ],
      "metadata": {
        "id": "EHS6l-grpFM-",
        "outputId": "ebce130f-88e1-4ad9-81cd-9673bdeaced8",
        "colab": {
          "base_uri": "https://localhost:8080/"
        }
      },
      "execution_count": null,
      "outputs": [
        {
          "output_type": "execute_result",
          "data": {
            "text/plain": [
              "15.789473684210526"
            ]
          },
          "metadata": {},
          "execution_count": 864
        }
      ]
    },
    {
      "cell_type": "code",
      "source": [
        "image = cv2.imread('/content/drive/MyDrive/cv4_images/00025.jpg')"
      ],
      "metadata": {
        "id": "9Ync7ZQ2qTr6"
      },
      "execution_count": null,
      "outputs": []
    },
    {
      "cell_type": "code",
      "source": [
        ""
      ],
      "metadata": {
        "id": "lZiCF-qkqiy3"
      },
      "execution_count": null,
      "outputs": []
    },
    {
      "cell_type": "markdown",
      "source": [
        "## функция для обработки обрезанного изображения с машиной\n",
        "она будет смотреть на пиксели в формате (hsv)"
      ],
      "metadata": {
        "id": "1uoht5paGd9T"
      }
    },
    {
      "cell_type": "code",
      "source": [
        "def get_hsv_info_from_car_im(image, x, y, w, h):\n",
        "    im = image[y + h // 11:y + h - h // 11, x + w // 11:x + w - w // 11]\n",
        "    hsv = cv2.cvtColor(im, cv2.COLOR_RGB2HSV)\n",
        "    \n",
        "    HSV_min = np.array([0, 60, 120])\n",
        "    HSV_max = np.array([155,190,240])\n",
        "\n",
        "    mask = cv2.inRange(hsv, HSV_min, HSV_max)\n",
        "    result = cv2.bitwise_and(im, im, mask=mask)\n",
        "\n",
        "    gray_result = cv2.cvtColor(result, cv2.COLOR_BGR2GRAY)\n",
        "\n",
        "    contours, hierarchy = cv2.findContours(gray_result, cv2.RETR_TREE, cv2.CHAIN_APPROX_SIMPLE)\n",
        "    for cnt in contours:\n",
        "        area = cv2.contourArea(cnt)\n",
        "        if 115 < area < 205:\n",
        "            return 'On'\n",
        "    return 'Off'\n",
        "    \n",
        "\n",
        "    brake_light = []"
      ],
      "metadata": {
        "id": "F6eeeHCENYbe"
      },
      "execution_count": null,
      "outputs": []
    },
    {
      "cell_type": "code",
      "source": [
        "def check_stop_signals(input_dir, output_file=\"output_color.csv\"):\n",
        "    model = torch.hub.load('ultralytics/yolov5', 'yolov5s')\n",
        "    model.classes = [2, 5, 7]\n",
        "    filenames = []\n",
        "    coloring = []\n",
        "    results = []\n",
        "    with open(os.path.join(input_dir, 'image_counter.txt')) as file:\n",
        "        n = int(file.readline())\n",
        "    df = pd.read_csv(os.path.join(input_dir, 'description.csv'))\n",
        "    for index in tqdm(list(set(df['full_image_index']))):\n",
        "        image = []\n",
        "        colors = []\n",
        "        for color in ['b', 'g', 'r']:\n",
        "            path_name = df[(df['full_image_index'] == index) & (df['color'] == color)]['image_path']\n",
        "            path_name = path_name.tolist()[0]\n",
        "            path = os.path.join(input_dir, f'data/{path_name}')\n",
        "            colors.append(cv2.imread(os.path.join(input_dir, path), 0))\n",
        "        shape = colors[0].shape\n",
        "        image = np.zeros((shape[0], shape[1], 3), dtype=np.uint8)\n",
        "        for i in range(3):\n",
        "            image[:, :, i] = colors[i]\n",
        "        r = path_name[path_name.rfind('.'):]\n",
        "        path_name = path_name[:path_name.rfind('.') - 2]\n",
        "        all_res = model(image).xywh\n",
        "        ans = 'no_cars' if len(all_res) == 0 else 'Off'\n",
        "        for i in range(len(all_res)):\n",
        "            result = all_res[0]\n",
        "            if len(result) > 0:\n",
        "                result = [result[i].numpy() for i in range(len(result))]\n",
        "                x, y, w, h, p, k = list(sorted(result, key=lambda x: x[4]))[-1]\n",
        "                if p > 0.04:\n",
        "                    x, y, w, h = [int(i) for i in [x, y, w, h]]\n",
        "                    x = int(x - w / 2)\n",
        "                    y = int(y - h / 2)\n",
        "                    res_iter = get_hsv_info_from_car_im(image, x, y, w, h)\n",
        "                    if res_iter == 'On':\n",
        "                        ans = 'On'\n",
        "                        break\n",
        "                else:\n",
        "                    ans = 'no_cars'\n",
        "            else:\n",
        "                ans = 'no_cars'\n",
        "        results.append(ans)\n",
        "        filenames.append(path_name + r)\n",
        "        \n",
        " \n",
        "    path = Path(output_file)\n",
        "    path.parent.mkdir(parents=True, exist_ok=True)  \n",
        "    df = pd.DataFrame({'filenames': filenames, 'car on image': results})\n",
        "    df.to_csv(path)\n",
        "    return df"
      ],
      "metadata": {
        "id": "X8gWhxD_NatZ"
      },
      "execution_count": null,
      "outputs": []
    },
    {
      "cell_type": "code",
      "source": [
        "check_stop_signals('/content/drive/MyDrive/stop_signals', 'cv5_output.csv')"
      ],
      "metadata": {
        "colab": {
          "base_uri": "https://localhost:8080/",
          "height": 688,
          "referenced_widgets": [
            "957998f964174a71a1413baf84cba9b0",
            "6a9682f9ad8744a6b25b94a6a09741f5",
            "362a08ebd53447e1a9825f02de190e1a",
            "72d257bed79b48f2923ca838c1801824",
            "8079b066eaef417a8af432515b7193dd",
            "ee4ab98ac0f341798ad7115a6af13d56",
            "37bfc11c1182400e9faff50be68b5384",
            "da5aabcaec35411caf01a9842c68f88d",
            "30cd5a4f705d4982bfe9530d6b371ad3",
            "0fadd768c2c6470196756700b8f66006",
            "b938af095b434fab8d264fc2c9ac681e"
          ]
        },
        "id": "J31M-HYUck6I",
        "outputId": "354b9411-86f0-465d-c92f-38d751569cdb"
      },
      "execution_count": null,
      "outputs": [
        {
          "output_type": "stream",
          "name": "stderr",
          "text": [
            "Using cache found in /root/.cache/torch/hub/ultralytics_yolov5_master\n",
            "\u001b[31m\u001b[1mrequirements:\u001b[0m PyYAML>=5.3.1 not found and is required by YOLOv5, attempting auto-update...\n",
            "Looking in indexes: https://pypi.org/simple, https://us-python.pkg.dev/colab-wheels/public/simple/\n",
            "Requirement already satisfied: PyYAML>=5.3.1 in /usr/local/lib/python3.7/dist-packages (6.0)\n",
            "\n",
            "\u001b[31m\u001b[1mrequirements:\u001b[0m 1 package updated per /root/.cache/torch/hub/ultralytics_yolov5_master/requirements.txt\n",
            "\u001b[31m\u001b[1mrequirements:\u001b[0m ⚠️ \u001b[1mRestart runtime or rerun command for updates to take effect\u001b[0m\n",
            "\n",
            "YOLOv5 🚀 2022-6-18 Python-3.7.13 torch-1.11.0+cu113 CPU\n",
            "\n",
            "Fusing layers... \n",
            "YOLOv5s summary: 213 layers, 7225885 parameters, 0 gradients\n",
            "Adding AutoShape... \n"
          ]
        },
        {
          "output_type": "display_data",
          "data": {
            "text/plain": [
              "  0%|          | 0/100 [00:00<?, ?it/s]"
            ],
            "application/vnd.jupyter.widget-view+json": {
              "version_major": 2,
              "version_minor": 0,
              "model_id": "957998f964174a71a1413baf84cba9b0"
            }
          },
          "metadata": {}
        },
        {
          "output_type": "execute_result",
          "data": {
            "text/plain": [
              "    filenames car on image\n",
              "0   00001.jpg      no_cars\n",
              "1   00002.jpg           On\n",
              "2   00003.jpg          Off\n",
              "3   00004.jpg           On\n",
              "4   00005.jpg          Off\n",
              "..        ...          ...\n",
              "95  00096.jpg      no_cars\n",
              "96  00097.jpg      no_cars\n",
              "97  00098.jpg          Off\n",
              "98  00099.jpg           On\n",
              "99  00100.jpg      no_cars\n",
              "\n",
              "[100 rows x 2 columns]"
            ],
            "text/html": [
              "\n",
              "  <div id=\"df-eea32703-ffff-4e43-85e0-8f506aa61b97\">\n",
              "    <div class=\"colab-df-container\">\n",
              "      <div>\n",
              "<style scoped>\n",
              "    .dataframe tbody tr th:only-of-type {\n",
              "        vertical-align: middle;\n",
              "    }\n",
              "\n",
              "    .dataframe tbody tr th {\n",
              "        vertical-align: top;\n",
              "    }\n",
              "\n",
              "    .dataframe thead th {\n",
              "        text-align: right;\n",
              "    }\n",
              "</style>\n",
              "<table border=\"1\" class=\"dataframe\">\n",
              "  <thead>\n",
              "    <tr style=\"text-align: right;\">\n",
              "      <th></th>\n",
              "      <th>filenames</th>\n",
              "      <th>car on image</th>\n",
              "    </tr>\n",
              "  </thead>\n",
              "  <tbody>\n",
              "    <tr>\n",
              "      <th>0</th>\n",
              "      <td>00001.jpg</td>\n",
              "      <td>no_cars</td>\n",
              "    </tr>\n",
              "    <tr>\n",
              "      <th>1</th>\n",
              "      <td>00002.jpg</td>\n",
              "      <td>On</td>\n",
              "    </tr>\n",
              "    <tr>\n",
              "      <th>2</th>\n",
              "      <td>00003.jpg</td>\n",
              "      <td>Off</td>\n",
              "    </tr>\n",
              "    <tr>\n",
              "      <th>3</th>\n",
              "      <td>00004.jpg</td>\n",
              "      <td>On</td>\n",
              "    </tr>\n",
              "    <tr>\n",
              "      <th>4</th>\n",
              "      <td>00005.jpg</td>\n",
              "      <td>Off</td>\n",
              "    </tr>\n",
              "    <tr>\n",
              "      <th>...</th>\n",
              "      <td>...</td>\n",
              "      <td>...</td>\n",
              "    </tr>\n",
              "    <tr>\n",
              "      <th>95</th>\n",
              "      <td>00096.jpg</td>\n",
              "      <td>no_cars</td>\n",
              "    </tr>\n",
              "    <tr>\n",
              "      <th>96</th>\n",
              "      <td>00097.jpg</td>\n",
              "      <td>no_cars</td>\n",
              "    </tr>\n",
              "    <tr>\n",
              "      <th>97</th>\n",
              "      <td>00098.jpg</td>\n",
              "      <td>Off</td>\n",
              "    </tr>\n",
              "    <tr>\n",
              "      <th>98</th>\n",
              "      <td>00099.jpg</td>\n",
              "      <td>On</td>\n",
              "    </tr>\n",
              "    <tr>\n",
              "      <th>99</th>\n",
              "      <td>00100.jpg</td>\n",
              "      <td>no_cars</td>\n",
              "    </tr>\n",
              "  </tbody>\n",
              "</table>\n",
              "<p>100 rows × 2 columns</p>\n",
              "</div>\n",
              "      <button class=\"colab-df-convert\" onclick=\"convertToInteractive('df-eea32703-ffff-4e43-85e0-8f506aa61b97')\"\n",
              "              title=\"Convert this dataframe to an interactive table.\"\n",
              "              style=\"display:none;\">\n",
              "        \n",
              "  <svg xmlns=\"http://www.w3.org/2000/svg\" height=\"24px\"viewBox=\"0 0 24 24\"\n",
              "       width=\"24px\">\n",
              "    <path d=\"M0 0h24v24H0V0z\" fill=\"none\"/>\n",
              "    <path d=\"M18.56 5.44l.94 2.06.94-2.06 2.06-.94-2.06-.94-.94-2.06-.94 2.06-2.06.94zm-11 1L8.5 8.5l.94-2.06 2.06-.94-2.06-.94L8.5 2.5l-.94 2.06-2.06.94zm10 10l.94 2.06.94-2.06 2.06-.94-2.06-.94-.94-2.06-.94 2.06-2.06.94z\"/><path d=\"M17.41 7.96l-1.37-1.37c-.4-.4-.92-.59-1.43-.59-.52 0-1.04.2-1.43.59L10.3 9.45l-7.72 7.72c-.78.78-.78 2.05 0 2.83L4 21.41c.39.39.9.59 1.41.59.51 0 1.02-.2 1.41-.59l7.78-7.78 2.81-2.81c.8-.78.8-2.07 0-2.86zM5.41 20L4 18.59l7.72-7.72 1.47 1.35L5.41 20z\"/>\n",
              "  </svg>\n",
              "      </button>\n",
              "      \n",
              "  <style>\n",
              "    .colab-df-container {\n",
              "      display:flex;\n",
              "      flex-wrap:wrap;\n",
              "      gap: 12px;\n",
              "    }\n",
              "\n",
              "    .colab-df-convert {\n",
              "      background-color: #E8F0FE;\n",
              "      border: none;\n",
              "      border-radius: 50%;\n",
              "      cursor: pointer;\n",
              "      display: none;\n",
              "      fill: #1967D2;\n",
              "      height: 32px;\n",
              "      padding: 0 0 0 0;\n",
              "      width: 32px;\n",
              "    }\n",
              "\n",
              "    .colab-df-convert:hover {\n",
              "      background-color: #E2EBFA;\n",
              "      box-shadow: 0px 1px 2px rgba(60, 64, 67, 0.3), 0px 1px 3px 1px rgba(60, 64, 67, 0.15);\n",
              "      fill: #174EA6;\n",
              "    }\n",
              "\n",
              "    [theme=dark] .colab-df-convert {\n",
              "      background-color: #3B4455;\n",
              "      fill: #D2E3FC;\n",
              "    }\n",
              "\n",
              "    [theme=dark] .colab-df-convert:hover {\n",
              "      background-color: #434B5C;\n",
              "      box-shadow: 0px 1px 3px 1px rgba(0, 0, 0, 0.15);\n",
              "      filter: drop-shadow(0px 1px 2px rgba(0, 0, 0, 0.3));\n",
              "      fill: #FFFFFF;\n",
              "    }\n",
              "  </style>\n",
              "\n",
              "      <script>\n",
              "        const buttonEl =\n",
              "          document.querySelector('#df-eea32703-ffff-4e43-85e0-8f506aa61b97 button.colab-df-convert');\n",
              "        buttonEl.style.display =\n",
              "          google.colab.kernel.accessAllowed ? 'block' : 'none';\n",
              "\n",
              "        async function convertToInteractive(key) {\n",
              "          const element = document.querySelector('#df-eea32703-ffff-4e43-85e0-8f506aa61b97');\n",
              "          const dataTable =\n",
              "            await google.colab.kernel.invokeFunction('convertToInteractive',\n",
              "                                                     [key], {});\n",
              "          if (!dataTable) return;\n",
              "\n",
              "          const docLinkHtml = 'Like what you see? Visit the ' +\n",
              "            '<a target=\"_blank\" href=https://colab.research.google.com/notebooks/data_table.ipynb>data table notebook</a>'\n",
              "            + ' to learn more about interactive tables.';\n",
              "          element.innerHTML = '';\n",
              "          dataTable['output_type'] = 'display_data';\n",
              "          await google.colab.output.renderOutput(dataTable, element);\n",
              "          const docLink = document.createElement('div');\n",
              "          docLink.innerHTML = docLinkHtml;\n",
              "          element.appendChild(docLink);\n",
              "        }\n",
              "      </script>\n",
              "    </div>\n",
              "  </div>\n",
              "  "
            ]
          },
          "metadata": {},
          "execution_count": 1032
        }
      ]
    },
    {
      "cell_type": "code",
      "source": [
        "df1 = pd.read_csv('/content/drive/MyDrive/stop_signals/train.csv')\n",
        "df2 = pd.read_csv('/content/cv5_output.csv')"
      ],
      "metadata": {
        "id": "SgyG-RNVdPqF"
      },
      "execution_count": null,
      "outputs": []
    },
    {
      "cell_type": "code",
      "source": [
        "df1 = df1.rename(columns={'00001.jpg': 'filenames', 'no_cars': 'car on image'})\n",
        "df_ = pd.DataFrame({'filenames': ['00001.jpg'], 'car on image': ['no_cars']})\n",
        "df1 = df1.append(df_)\n",
        "df1 = df1.reset_index()"
      ],
      "metadata": {
        "id": "FQF0CNtUyLXi"
      },
      "execution_count": null,
      "outputs": []
    },
    {
      "cell_type": "code",
      "source": [
        "points_on = df2[(df1['car on image'] == 'On') & (df2['car on image'] != 'NOT')]['car on image'].tolist()\n",
        "points_off = df2[(df1['car on image'] == 'Off') & (df2['car on image'] != 'NOT')]['car on image'].tolist()\n",
        "point_no_car_my = set(df2[df2['car on image'] == 'NOT']['filenames'].tolist())\n",
        "point_car_my = set(df2[df2['car on image'] != 'NOT']['filenames'].tolist())\n",
        "point_no_car = set(df1[df1['car on image'] == 'no_cars']['filenames'].tolist())\n",
        "point_car = set(df1[df1['car on image'] != 'no_cars']['filenames'].tolist())\n",
        "\n",
        "\n",
        "plt.figure(figsize=(10, 10))"
      ],
      "metadata": {
        "id": "coZK80RLyVC-",
        "outputId": "c9e02f9e-e0b4-4e97-9ffe-c774b8e9d516",
        "colab": {
          "base_uri": "https://localhost:8080/",
          "height": 53
        }
      },
      "execution_count": null,
      "outputs": [
        {
          "output_type": "execute_result",
          "data": {
            "text/plain": [
              "<Figure size 720x720 with 0 Axes>"
            ]
          },
          "metadata": {},
          "execution_count": 1035
        },
        {
          "output_type": "display_data",
          "data": {
            "text/plain": [
              "<Figure size 720x720 with 0 Axes>"
            ]
          },
          "metadata": {}
        }
      ]
    },
    {
      "cell_type": "code",
      "source": [
        "k = 0\n",
        "d = {}\n",
        "for name in set(df1['filenames'].tolist()):\n",
        "    ans1 = df1[df1['filenames'] == name]['car on image'].tolist()[0]\n",
        "    ans2 = df2[df2['filenames'] == name]['car on image'].tolist()[0]\n",
        "    if ans1 == ans2:\n",
        "        k += 1\n",
        "    else:\n",
        "        d[name] = (ans1, ans2)\n",
        "n = len(set(df1['filenames'].tolist()))"
      ],
      "metadata": {
        "id": "4i4xHAlyXL-k"
      },
      "execution_count": null,
      "outputs": []
    },
    {
      "cell_type": "code",
      "source": [
        "k"
      ],
      "metadata": {
        "id": "xo9LFwuKj1OX",
        "outputId": "849cc800-17ad-4bfc-a4ce-6a1dea9a0759",
        "colab": {
          "base_uri": "https://localhost:8080/"
        }
      },
      "execution_count": null,
      "outputs": [
        {
          "output_type": "execute_result",
          "data": {
            "text/plain": [
              "75"
            ]
          },
          "metadata": {},
          "execution_count": 1037
        }
      ]
    },
    {
      "cell_type": "code",
      "source": [
        "v = list(d.values())"
      ],
      "metadata": {
        "id": "jmPROU0aiaOd"
      },
      "execution_count": null,
      "outputs": []
    },
    {
      "cell_type": "code",
      "source": [
        "v.count(('On', 'Off')), v.count(('Off', 'On'))"
      ],
      "metadata": {
        "id": "n-cACVwvazfs",
        "outputId": "3c512ebe-c4e8-4bad-da9b-73987f4a31e4",
        "colab": {
          "base_uri": "https://localhost:8080/"
        }
      },
      "execution_count": null,
      "outputs": [
        {
          "output_type": "execute_result",
          "data": {
            "text/plain": [
              "(10, 11)"
            ]
          },
          "metadata": {},
          "execution_count": 1039
        }
      ]
    },
    {
      "cell_type": "code",
      "source": [
        "max(0, k - 0.6 * n) * 50 / (n - 0.6 * n)"
      ],
      "metadata": {
        "id": "yKkO4DM2bnQM",
        "outputId": "82652f41-7a2c-49bb-8528-6e6b2ab47169",
        "colab": {
          "base_uri": "https://localhost:8080/"
        }
      },
      "execution_count": null,
      "outputs": [
        {
          "output_type": "execute_result",
          "data": {
            "text/plain": [
              "18.75"
            ]
          },
          "metadata": {},
          "execution_count": 1040
        }
      ]
    },
    {
      "cell_type": "code",
      "source": [
        "d"
      ],
      "metadata": {
        "id": "H2aSv9CCdAB7",
        "outputId": "d5016b8c-daba-43e0-a2ec-bf76c2962ae9",
        "colab": {
          "base_uri": "https://localhost:8080/"
        }
      },
      "execution_count": null,
      "outputs": [
        {
          "output_type": "execute_result",
          "data": {
            "text/plain": [
              "{'00002.jpg': ('Off', 'On'),\n",
              " '00016.jpg': ('Off', 'On'),\n",
              " '00018.jpg': ('Off', 'On'),\n",
              " '00022.jpg': ('Off', 'On'),\n",
              " '00023.jpg': ('Off', 'On'),\n",
              " '00026.jpg': ('no_cars', 'On'),\n",
              " '00031.jpg': ('On', 'Off'),\n",
              " '00037.jpg': ('Off', 'On'),\n",
              " '00041.jpg': ('On', 'Off'),\n",
              " '00042.jpg': ('On', 'Off'),\n",
              " '00043.jpg': ('On', 'Off'),\n",
              " '00045.jpg': ('Off', 'On'),\n",
              " '00047.jpg': ('On', 'Off'),\n",
              " '00049.jpg': ('no_cars', 'Off'),\n",
              " '00050.jpg': ('On', 'Off'),\n",
              " '00053.jpg': ('On', 'Off'),\n",
              " '00054.jpg': ('On', 'Off'),\n",
              " '00058.jpg': ('Off', 'On'),\n",
              " '00071.jpg': ('Off', 'On'),\n",
              " '00072.jpg': ('On', 'Off'),\n",
              " '00074.jpg': ('On', 'no_cars'),\n",
              " '00089.jpg': ('Off', 'On'),\n",
              " '00092.jpg': ('On', 'no_cars'),\n",
              " '00098.jpg': ('On', 'Off'),\n",
              " '00099.jpg': ('Off', 'On')}"
            ]
          },
          "metadata": {},
          "execution_count": 973
        }
      ]
    },
    {
      "cell_type": "code",
      "source": [
        "im = cv2.imread('/content/drive/MyDrive/cv5_images/00016.jpg')"
      ],
      "metadata": {
        "id": "dPYcyjk6VWdC"
      },
      "execution_count": null,
      "outputs": []
    },
    {
      "cell_type": "code",
      "source": [
        "cv2_imshow(im)"
      ],
      "metadata": {
        "id": "Dgk-RIUx4tSI",
        "outputId": "536883c9-5ae7-4074-b7e2-b1d1caebc139",
        "colab": {
          "base_uri": "https://localhost:8080/",
          "height": 341
        }
      },
      "execution_count": null,
      "outputs": [
        {
          "output_type": "display_data",
          "data": {
            "text/plain": [
              "<PIL.Image.Image image mode=RGB size=500x324 at 0x7FD48B41B8D0>"
            ],
            "image/png": "[encoded data removed]"
          },
          "metadata": {}
        }
      ]
    },
    {
      "cell_type": "code",
      "source": [
        "hsv = cv2.cvtColor(im, cv2.COLOR_RGB2HSV)\n",
        "\n",
        "HSV_min = np.array([0, 60, 120])\n",
        "HSV_max = np.array([160,200,255])\n",
        "\n",
        "mask = cv2.inRange(hsv, HSV_min, HSV_max)\n",
        "result = cv2.bitwise_and(im, im, mask=mask)\n",
        "\n",
        "gray_result = cv2.cvtColor(result, cv2.COLOR_BGR2GRAY)\n",
        "\n",
        "contours, hierarchy = cv2.findContours(gray_result, cv2.RETR_TREE, cv2.CHAIN_APPROX_SIMPLE)\n",
        "for cnt in contours:\n",
        "    area = cv2.contourArea(cnt)\n",
        "    if 120 < area < 210:\n",
        "        print(area)"
      ],
      "metadata": {
        "id": "LgZ8jpXx1pjl"
      },
      "execution_count": null,
      "outputs": []
    },
    {
      "cell_type": "code",
      "source": [
        ""
      ],
      "metadata": {
        "id": "sKtK3lvdTn7F"
      },
      "execution_count": null,
      "outputs": []
    }
  ],
  "metadata": {
    "colab": {
      "name": "Копия блокнота \"ВЕЗДЕКОД.ipynb\"",
      "provenance": []
    },
    "kernelspec": {
      "display_name": "Python 3",
      "name": "python3"
    },
    "language_info": {
      "name": "python"
    },
    "widgets": {
      "application/vnd.jupyter.widget-state+json": {
        "1413ebfe626b45b1a8452de1b14c0a2c": {
          "model_module": "@jupyter-widgets/base",
          "model_module_version": "1.2.0",
          "model_name": "LayoutModel",
          "state": {
            "_model_module": "@jupyter-widgets/base",
            "_model_module_version": "1.2.0",
            "_model_name": "LayoutModel",
            "_view_count": null,
            "_view_module": "@jupyter-widgets/base",
            "_view_module_version": "1.2.0",
            "_view_name": "LayoutView",
            "align_content": null,
            "align_items": null,
            "align_self": null,
            "border": null,
            "bottom": null,
            "display": null,
            "flex": null,
            "flex_flow": null,
            "grid_area": null,
            "grid_auto_columns": null,
            "grid_auto_flow": null,
            "grid_auto_rows": null,
            "grid_column": null,
            "grid_gap": null,
            "grid_row": null,
            "grid_template_areas": null,
            "grid_template_columns": null,
            "grid_template_rows": null,
            "height": null,
            "justify_content": null,
            "justify_items": null,
            "left": null,
            "margin": null,
            "max_height": null,
            "max_width": null,
            "min_height": null,
            "min_width": null,
            "object_fit": null,
            "object_position": null,
            "order": null,
            "overflow": null,
            "overflow_x": null,
            "overflow_y": null,
            "padding": null,
            "right": null,
            "top": null,
            "visibility": null,
            "width": null
          }
        },
        "243dba3199da46849ea9fb62020ac797": {
          "model_module": "@jupyter-widgets/base",
          "model_module_version": "1.2.0",
          "model_name": "LayoutModel",
          "state": {
            "_model_module": "@jupyter-widgets/base",
            "_model_module_version": "1.2.0",
            "_model_name": "LayoutModel",
            "_view_count": null,
            "_view_module": "@jupyter-widgets/base",
            "_view_module_version": "1.2.0",
            "_view_name": "LayoutView",
            "align_content": null,
            "align_items": null,
            "align_self": null,
            "border": null,
            "bottom": null,
            "display": null,
            "flex": null,
            "flex_flow": null,
            "grid_area": null,
            "grid_auto_columns": null,
            "grid_auto_flow": null,
            "grid_auto_rows": null,
            "grid_column": null,
            "grid_gap": null,
            "grid_row": null,
            "grid_template_areas": null,
            "grid_template_columns": null,
            "grid_template_rows": null,
            "height": null,
            "justify_content": null,
            "justify_items": null,
            "left": null,
            "margin": null,
            "max_height": null,
            "max_width": null,
            "min_height": null,
            "min_width": null,
            "object_fit": null,
            "object_position": null,
            "order": null,
            "overflow": null,
            "overflow_x": null,
            "overflow_y": null,
            "padding": null,
            "right": null,
            "top": null,
            "visibility": null,
            "width": null
          }
        },
        "47313d55be634472998f405c78aa8879": {
          "model_module": "@jupyter-widgets/base",
          "model_module_version": "1.2.0",
          "model_name": "LayoutModel",
          "state": {
            "_model_module": "@jupyter-widgets/base",
            "_model_module_version": "1.2.0",
            "_model_name": "LayoutModel",
            "_view_count": null,
            "_view_module": "@jupyter-widgets/base",
            "_view_module_version": "1.2.0",
            "_view_name": "LayoutView",
            "align_content": null,
            "align_items": null,
            "align_self": null,
            "border": null,
            "bottom": null,
            "display": null,
            "flex": null,
            "flex_flow": null,
            "grid_area": null,
            "grid_auto_columns": null,
            "grid_auto_flow": null,
            "grid_auto_rows": null,
            "grid_column": null,
            "grid_gap": null,
            "grid_row": null,
            "grid_template_areas": null,
            "grid_template_columns": null,
            "grid_template_rows": null,
            "height": null,
            "justify_content": null,
            "justify_items": null,
            "left": null,
            "margin": null,
            "max_height": null,
            "max_width": null,
            "min_height": null,
            "min_width": null,
            "object_fit": null,
            "object_position": null,
            "order": null,
            "overflow": null,
            "overflow_x": null,
            "overflow_y": null,
            "padding": null,
            "right": null,
            "top": null,
            "visibility": null,
            "width": null
          }
        },
        "4fb1a7b022994cb581df75f2d6fa06ac": {
          "model_module": "@jupyter-widgets/controls",
          "model_module_version": "1.5.0",
          "model_name": "HTMLModel",
          "state": {
            "_dom_classes": [],
            "_model_module": "@jupyter-widgets/controls",
            "_model_module_version": "1.5.0",
            "_model_name": "HTMLModel",
            "_view_count": null,
            "_view_module": "@jupyter-widgets/controls",
            "_view_module_version": "1.5.0",
            "_view_name": "HTMLView",
            "description": "",
            "description_tooltip": null,
            "layout": "IPY_MODEL_1413ebfe626b45b1a8452de1b14c0a2c",
            "placeholder": "​",
            "style": "IPY_MODEL_95a1b41715c7469d9c0f6b984c847e28",
            "value": "100%"
          }
        },
        "5507775bebfd421480d648c77d5b6728": {
          "model_module": "@jupyter-widgets/controls",
          "model_module_version": "1.5.0",
          "model_name": "ProgressStyleModel",
          "state": {
            "_model_module": "@jupyter-widgets/controls",
            "_model_module_version": "1.5.0",
            "_model_name": "ProgressStyleModel",
            "_view_count": null,
            "_view_module": "@jupyter-widgets/base",
            "_view_module_version": "1.2.0",
            "_view_name": "StyleView",
            "bar_color": null,
            "description_width": ""
          }
        },
        "6cee41afbecb4889b9a32945ad53d477": {
          "model_module": "@jupyter-widgets/controls",
          "model_module_version": "1.5.0",
          "model_name": "DescriptionStyleModel",
          "state": {
            "_model_module": "@jupyter-widgets/controls",
            "_model_module_version": "1.5.0",
            "_model_name": "DescriptionStyleModel",
            "_view_count": null,
            "_view_module": "@jupyter-widgets/base",
            "_view_module_version": "1.2.0",
            "_view_name": "StyleView",
            "description_width": ""
          }
        },
        "90f6ab7f6b4a484c99dec800fbe6bada": {
          "model_module": "@jupyter-widgets/controls",
          "model_module_version": "1.5.0",
          "model_name": "HTMLModel",
          "state": {
            "_dom_classes": [],
            "_model_module": "@jupyter-widgets/controls",
            "_model_module_version": "1.5.0",
            "_model_name": "HTMLModel",
            "_view_count": null,
            "_view_module": "@jupyter-widgets/controls",
            "_view_module_version": "1.5.0",
            "_view_name": "HTMLView",
            "description": "",
            "description_tooltip": null,
            "layout": "IPY_MODEL_243dba3199da46849ea9fb62020ac797",
            "placeholder": "​",
            "style": "IPY_MODEL_6cee41afbecb4889b9a32945ad53d477",
            "value": " 100/100 [01:35&lt;00:00,  1.26it/s]"
          }
        },
        "95a1b41715c7469d9c0f6b984c847e28": {
          "model_module": "@jupyter-widgets/controls",
          "model_module_version": "1.5.0",
          "model_name": "DescriptionStyleModel",
          "state": {
            "_model_module": "@jupyter-widgets/controls",
            "_model_module_version": "1.5.0",
            "_model_name": "DescriptionStyleModel",
            "_view_count": null,
            "_view_module": "@jupyter-widgets/base",
            "_view_module_version": "1.2.0",
            "_view_name": "StyleView",
            "description_width": ""
          }
        },
        "995225e8c62841978f8fb2defefd0d9b": {
          "model_module": "@jupyter-widgets/controls",
          "model_module_version": "1.5.0",
          "model_name": "FloatProgressModel",
          "state": {
            "_dom_classes": [],
            "_model_module": "@jupyter-widgets/controls",
            "_model_module_version": "1.5.0",
            "_model_name": "FloatProgressModel",
            "_view_count": null,
            "_view_module": "@jupyter-widgets/controls",
            "_view_module_version": "1.5.0",
            "_view_name": "ProgressView",
            "bar_style": "success",
            "description": "",
            "description_tooltip": null,
            "layout": "IPY_MODEL_47313d55be634472998f405c78aa8879",
            "max": 100,
            "min": 0,
            "orientation": "horizontal",
            "style": "IPY_MODEL_5507775bebfd421480d648c77d5b6728",
            "value": 100
          }
        },
        "b03ec52c74ce4726bf0a231298d15c4a": {
          "model_module": "@jupyter-widgets/controls",
          "model_module_version": "1.5.0",
          "model_name": "HBoxModel",
          "state": {
            "_dom_classes": [],
            "_model_module": "@jupyter-widgets/controls",
            "_model_module_version": "1.5.0",
            "_model_name": "HBoxModel",
            "_view_count": null,
            "_view_module": "@jupyter-widgets/controls",
            "_view_module_version": "1.5.0",
            "_view_name": "HBoxView",
            "box_style": "",
            "children": [
              "IPY_MODEL_4fb1a7b022994cb581df75f2d6fa06ac",
              "IPY_MODEL_995225e8c62841978f8fb2defefd0d9b",
              "IPY_MODEL_90f6ab7f6b4a484c99dec800fbe6bada"
            ],
            "layout": "IPY_MODEL_f370e8c0eb1d47e7a5991d19051005ec"
          }
        },
        "f370e8c0eb1d47e7a5991d19051005ec": {
          "model_module": "@jupyter-widgets/base",
          "model_module_version": "1.2.0",
          "model_name": "LayoutModel",
          "state": {
            "_model_module": "@jupyter-widgets/base",
            "_model_module_version": "1.2.0",
            "_model_name": "LayoutModel",
            "_view_count": null,
            "_view_module": "@jupyter-widgets/base",
            "_view_module_version": "1.2.0",
            "_view_name": "LayoutView",
            "align_content": null,
            "align_items": null,
            "align_self": null,
            "border": null,
            "bottom": null,
            "display": null,
            "flex": null,
            "flex_flow": null,
            "grid_area": null,
            "grid_auto_columns": null,
            "grid_auto_flow": null,
            "grid_auto_rows": null,
            "grid_column": null,
            "grid_gap": null,
            "grid_row": null,
            "grid_template_areas": null,
            "grid_template_columns": null,
            "grid_template_rows": null,
            "height": null,
            "justify_content": null,
            "justify_items": null,
            "left": null,
            "margin": null,
            "max_height": null,
            "max_width": null,
            "min_height": null,
            "min_width": null,
            "object_fit": null,
            "object_position": null,
            "order": null,
            "overflow": null,
            "overflow_x": null,
            "overflow_y": null,
            "padding": null,
            "right": null,
            "top": null,
            "visibility": null,
            "width": null
          }
        },
        "a1462bf6e0b74fe8b53ca7821057d55a": {
          "model_module": "@jupyter-widgets/controls",
          "model_name": "HBoxModel",
          "model_module_version": "1.5.0",
          "state": {
            "_dom_classes": [],
            "_model_module": "@jupyter-widgets/controls",
            "_model_module_version": "1.5.0",
            "_model_name": "HBoxModel",
            "_view_count": null,
            "_view_module": "@jupyter-widgets/controls",
            "_view_module_version": "1.5.0",
            "_view_name": "HBoxView",
            "box_style": "",
            "children": [
              "IPY_MODEL_02517c71f9094bdcbe0348367b87a4a7",
              "IPY_MODEL_72776ba77a504fb9a0b23432e50ee16b",
              "IPY_MODEL_df466d76e5364a28aca7eb4bf1607e50"
            ],
            "layout": "IPY_MODEL_8f5aefa1bdcb407ebf7cdb81bc2ffed6"
          }
        },
        "02517c71f9094bdcbe0348367b87a4a7": {
          "model_module": "@jupyter-widgets/controls",
          "model_name": "HTMLModel",
          "model_module_version": "1.5.0",
          "state": {
            "_dom_classes": [],
            "_model_module": "@jupyter-widgets/controls",
            "_model_module_version": "1.5.0",
            "_model_name": "HTMLModel",
            "_view_count": null,
            "_view_module": "@jupyter-widgets/controls",
            "_view_module_version": "1.5.0",
            "_view_name": "HTMLView",
            "description": "",
            "description_tooltip": null,
            "layout": "IPY_MODEL_63fdd9c922d74e27af054bf2792b965a",
            "placeholder": "​",
            "style": "IPY_MODEL_bd0a4e80cded44a59010c67d265a28ad",
            "value": "100%"
          }
        },
        "72776ba77a504fb9a0b23432e50ee16b": {
          "model_module": "@jupyter-widgets/controls",
          "model_name": "FloatProgressModel",
          "model_module_version": "1.5.0",
          "state": {
            "_dom_classes": [],
            "_model_module": "@jupyter-widgets/controls",
            "_model_module_version": "1.5.0",
            "_model_name": "FloatProgressModel",
            "_view_count": null,
            "_view_module": "@jupyter-widgets/controls",
            "_view_module_version": "1.5.0",
            "_view_name": "ProgressView",
            "bar_style": "success",
            "description": "",
            "description_tooltip": null,
            "layout": "IPY_MODEL_8e2dbcf553f94af8ac46ddc1f13af525",
            "max": 100,
            "min": 0,
            "orientation": "horizontal",
            "style": "IPY_MODEL_f29a0ea5a445487a9de6d7c68a5377c1",
            "value": 100
          }
        },
        "df466d76e5364a28aca7eb4bf1607e50": {
          "model_module": "@jupyter-widgets/controls",
          "model_name": "HTMLModel",
          "model_module_version": "1.5.0",
          "state": {
            "_dom_classes": [],
            "_model_module": "@jupyter-widgets/controls",
            "_model_module_version": "1.5.0",
            "_model_name": "HTMLModel",
            "_view_count": null,
            "_view_module": "@jupyter-widgets/controls",
            "_view_module_version": "1.5.0",
            "_view_name": "HTMLView",
            "description": "",
            "description_tooltip": null,
            "layout": "IPY_MODEL_24477cc050564f9c81357835e1761043",
            "placeholder": "​",
            "style": "IPY_MODEL_8e6e22a1c97b416b91663a27cea8802d",
            "value": " 100/100 [02:17&lt;00:00,  1.53s/it]"
          }
        },
        "8f5aefa1bdcb407ebf7cdb81bc2ffed6": {
          "model_module": "@jupyter-widgets/base",
          "model_name": "LayoutModel",
          "model_module_version": "1.2.0",
          "state": {
            "_model_module": "@jupyter-widgets/base",
            "_model_module_version": "1.2.0",
            "_model_name": "LayoutModel",
            "_view_count": null,
            "_view_module": "@jupyter-widgets/base",
            "_view_module_version": "1.2.0",
            "_view_name": "LayoutView",
            "align_content": null,
            "align_items": null,
            "align_self": null,
            "border": null,
            "bottom": null,
            "display": null,
            "flex": null,
            "flex_flow": null,
            "grid_area": null,
            "grid_auto_columns": null,
            "grid_auto_flow": null,
            "grid_auto_rows": null,
            "grid_column": null,
            "grid_gap": null,
            "grid_row": null,
            "grid_template_areas": null,
            "grid_template_columns": null,
            "grid_template_rows": null,
            "height": null,
            "justify_content": null,
            "justify_items": null,
            "left": null,
            "margin": null,
            "max_height": null,
            "max_width": null,
            "min_height": null,
            "min_width": null,
            "object_fit": null,
            "object_position": null,
            "order": null,
            "overflow": null,
            "overflow_x": null,
            "overflow_y": null,
            "padding": null,
            "right": null,
            "top": null,
            "visibility": null,
            "width": null
          }
        },
        "63fdd9c922d74e27af054bf2792b965a": {
          "model_module": "@jupyter-widgets/base",
          "model_name": "LayoutModel",
          "model_module_version": "1.2.0",
          "state": {
            "_model_module": "@jupyter-widgets/base",
            "_model_module_version": "1.2.0",
            "_model_name": "LayoutModel",
            "_view_count": null,
            "_view_module": "@jupyter-widgets/base",
            "_view_module_version": "1.2.0",
            "_view_name": "LayoutView",
            "align_content": null,
            "align_items": null,
            "align_self": null,
            "border": null,
            "bottom": null,
            "display": null,
            "flex": null,
            "flex_flow": null,
            "grid_area": null,
            "grid_auto_columns": null,
            "grid_auto_flow": null,
            "grid_auto_rows": null,
            "grid_column": null,
            "grid_gap": null,
            "grid_row": null,
            "grid_template_areas": null,
            "grid_template_columns": null,
            "grid_template_rows": null,
            "height": null,
            "justify_content": null,
            "justify_items": null,
            "left": null,
            "margin": null,
            "max_height": null,
            "max_width": null,
            "min_height": null,
            "min_width": null,
            "object_fit": null,
            "object_position": null,
            "order": null,
            "overflow": null,
            "overflow_x": null,
            "overflow_y": null,
            "padding": null,
            "right": null,
            "top": null,
            "visibility": null,
            "width": null
          }
        },
        "bd0a4e80cded44a59010c67d265a28ad": {
          "model_module": "@jupyter-widgets/controls",
          "model_name": "DescriptionStyleModel",
          "model_module_version": "1.5.0",
          "state": {
            "_model_module": "@jupyter-widgets/controls",
            "_model_module_version": "1.5.0",
            "_model_name": "DescriptionStyleModel",
            "_view_count": null,
            "_view_module": "@jupyter-widgets/base",
            "_view_module_version": "1.2.0",
            "_view_name": "StyleView",
            "description_width": ""
          }
        },
        "8e2dbcf553f94af8ac46ddc1f13af525": {
          "model_module": "@jupyter-widgets/base",
          "model_name": "LayoutModel",
          "model_module_version": "1.2.0",
          "state": {
            "_model_module": "@jupyter-widgets/base",
            "_model_module_version": "1.2.0",
            "_model_name": "LayoutModel",
            "_view_count": null,
            "_view_module": "@jupyter-widgets/base",
            "_view_module_version": "1.2.0",
            "_view_name": "LayoutView",
            "align_content": null,
            "align_items": null,
            "align_self": null,
            "border": null,
            "bottom": null,
            "display": null,
            "flex": null,
            "flex_flow": null,
            "grid_area": null,
            "grid_auto_columns": null,
            "grid_auto_flow": null,
            "grid_auto_rows": null,
            "grid_column": null,
            "grid_gap": null,
            "grid_row": null,
            "grid_template_areas": null,
            "grid_template_columns": null,
            "grid_template_rows": null,
            "height": null,
            "justify_content": null,
            "justify_items": null,
            "left": null,
            "margin": null,
            "max_height": null,
            "max_width": null,
            "min_height": null,
            "min_width": null,
            "object_fit": null,
            "object_position": null,
            "order": null,
            "overflow": null,
            "overflow_x": null,
            "overflow_y": null,
            "padding": null,
            "right": null,
            "top": null,
            "visibility": null,
            "width": null
          }
        },
        "f29a0ea5a445487a9de6d7c68a5377c1": {
          "model_module": "@jupyter-widgets/controls",
          "model_name": "ProgressStyleModel",
          "model_module_version": "1.5.0",
          "state": {
            "_model_module": "@jupyter-widgets/controls",
            "_model_module_version": "1.5.0",
            "_model_name": "ProgressStyleModel",
            "_view_count": null,
            "_view_module": "@jupyter-widgets/base",
            "_view_module_version": "1.2.0",
            "_view_name": "StyleView",
            "bar_color": null,
            "description_width": ""
          }
        },
        "24477cc050564f9c81357835e1761043": {
          "model_module": "@jupyter-widgets/base",
          "model_name": "LayoutModel",
          "model_module_version": "1.2.0",
          "state": {
            "_model_module": "@jupyter-widgets/base",
            "_model_module_version": "1.2.0",
            "_model_name": "LayoutModel",
            "_view_count": null,
            "_view_module": "@jupyter-widgets/base",
            "_view_module_version": "1.2.0",
            "_view_name": "LayoutView",
            "align_content": null,
            "align_items": null,
            "align_self": null,
            "border": null,
            "bottom": null,
            "display": null,
            "flex": null,
            "flex_flow": null,
            "grid_area": null,
            "grid_auto_columns": null,
            "grid_auto_flow": null,
            "grid_auto_rows": null,
            "grid_column": null,
            "grid_gap": null,
            "grid_row": null,
            "grid_template_areas": null,
            "grid_template_columns": null,
            "grid_template_rows": null,
            "height": null,
            "justify_content": null,
            "justify_items": null,
            "left": null,
            "margin": null,
            "max_height": null,
            "max_width": null,
            "min_height": null,
            "min_width": null,
            "object_fit": null,
            "object_position": null,
            "order": null,
            "overflow": null,
            "overflow_x": null,
            "overflow_y": null,
            "padding": null,
            "right": null,
            "top": null,
            "visibility": null,
            "width": null
          }
        },
        "8e6e22a1c97b416b91663a27cea8802d": {
          "model_module": "@jupyter-widgets/controls",
          "model_name": "DescriptionStyleModel",
          "model_module_version": "1.5.0",
          "state": {
            "_model_module": "@jupyter-widgets/controls",
            "_model_module_version": "1.5.0",
            "_model_name": "DescriptionStyleModel",
            "_view_count": null,
            "_view_module": "@jupyter-widgets/base",
            "_view_module_version": "1.2.0",
            "_view_name": "StyleView",
            "description_width": ""
          }
        },
        "d1efcf7d36b848f48a09ffdea11399b5": {
          "model_module": "@jupyter-widgets/controls",
          "model_name": "HBoxModel",
          "model_module_version": "1.5.0",
          "state": {
            "_dom_classes": [],
            "_model_module": "@jupyter-widgets/controls",
            "_model_module_version": "1.5.0",
            "_model_name": "HBoxModel",
            "_view_count": null,
            "_view_module": "@jupyter-widgets/controls",
            "_view_module_version": "1.5.0",
            "_view_name": "HBoxView",
            "box_style": "",
            "children": [
              "IPY_MODEL_5f5f47a0eb63404b93003cdb2b2bff13",
              "IPY_MODEL_bdf583d4f09d4bd9a6bc6a629867923a",
              "IPY_MODEL_e8257f64567647dfa649860081fd689a"
            ],
            "layout": "IPY_MODEL_3408d8ddfed246499ff996ae09aaa096"
          }
        },
        "5f5f47a0eb63404b93003cdb2b2bff13": {
          "model_module": "@jupyter-widgets/controls",
          "model_name": "HTMLModel",
          "model_module_version": "1.5.0",
          "state": {
            "_dom_classes": [],
            "_model_module": "@jupyter-widgets/controls",
            "_model_module_version": "1.5.0",
            "_model_name": "HTMLModel",
            "_view_count": null,
            "_view_module": "@jupyter-widgets/controls",
            "_view_module_version": "1.5.0",
            "_view_name": "HTMLView",
            "description": "",
            "description_tooltip": null,
            "layout": "IPY_MODEL_e7d44c4a6f634aa083bf2a916d9830c6",
            "placeholder": "​",
            "style": "IPY_MODEL_c2655dafe4d04c6f91430c825c7760e5",
            "value": "100%"
          }
        },
        "bdf583d4f09d4bd9a6bc6a629867923a": {
          "model_module": "@jupyter-widgets/controls",
          "model_name": "FloatProgressModel",
          "model_module_version": "1.5.0",
          "state": {
            "_dom_classes": [],
            "_model_module": "@jupyter-widgets/controls",
            "_model_module_version": "1.5.0",
            "_model_name": "FloatProgressModel",
            "_view_count": null,
            "_view_module": "@jupyter-widgets/controls",
            "_view_module_version": "1.5.0",
            "_view_name": "ProgressView",
            "bar_style": "success",
            "description": "",
            "description_tooltip": null,
            "layout": "IPY_MODEL_136a5306153244dc89c53d94e29a6b29",
            "max": 96,
            "min": 0,
            "orientation": "horizontal",
            "style": "IPY_MODEL_8e8d56e240214eeb9d11603f7b7dcde0",
            "value": 96
          }
        },
        "e8257f64567647dfa649860081fd689a": {
          "model_module": "@jupyter-widgets/controls",
          "model_name": "HTMLModel",
          "model_module_version": "1.5.0",
          "state": {
            "_dom_classes": [],
            "_model_module": "@jupyter-widgets/controls",
            "_model_module_version": "1.5.0",
            "_model_name": "HTMLModel",
            "_view_count": null,
            "_view_module": "@jupyter-widgets/controls",
            "_view_module_version": "1.5.0",
            "_view_name": "HTMLView",
            "description": "",
            "description_tooltip": null,
            "layout": "IPY_MODEL_298997ca6c8c4a158a9e70028c4bd881",
            "placeholder": "​",
            "style": "IPY_MODEL_6410b071e8224e3eb14064038b40c0c5",
            "value": " 96/96 [08:25&lt;00:00,  5.71s/it]"
          }
        },
        "3408d8ddfed246499ff996ae09aaa096": {
          "model_module": "@jupyter-widgets/base",
          "model_name": "LayoutModel",
          "model_module_version": "1.2.0",
          "state": {
            "_model_module": "@jupyter-widgets/base",
            "_model_module_version": "1.2.0",
            "_model_name": "LayoutModel",
            "_view_count": null,
            "_view_module": "@jupyter-widgets/base",
            "_view_module_version": "1.2.0",
            "_view_name": "LayoutView",
            "align_content": null,
            "align_items": null,
            "align_self": null,
            "border": null,
            "bottom": null,
            "display": null,
            "flex": null,
            "flex_flow": null,
            "grid_area": null,
            "grid_auto_columns": null,
            "grid_auto_flow": null,
            "grid_auto_rows": null,
            "grid_column": null,
            "grid_gap": null,
            "grid_row": null,
            "grid_template_areas": null,
            "grid_template_columns": null,
            "grid_template_rows": null,
            "height": null,
            "justify_content": null,
            "justify_items": null,
            "left": null,
            "margin": null,
            "max_height": null,
            "max_width": null,
            "min_height": null,
            "min_width": null,
            "object_fit": null,
            "object_position": null,
            "order": null,
            "overflow": null,
            "overflow_x": null,
            "overflow_y": null,
            "padding": null,
            "right": null,
            "top": null,
            "visibility": null,
            "width": null
          }
        },
        "e7d44c4a6f634aa083bf2a916d9830c6": {
          "model_module": "@jupyter-widgets/base",
          "model_name": "LayoutModel",
          "model_module_version": "1.2.0",
          "state": {
            "_model_module": "@jupyter-widgets/base",
            "_model_module_version": "1.2.0",
            "_model_name": "LayoutModel",
            "_view_count": null,
            "_view_module": "@jupyter-widgets/base",
            "_view_module_version": "1.2.0",
            "_view_name": "LayoutView",
            "align_content": null,
            "align_items": null,
            "align_self": null,
            "border": null,
            "bottom": null,
            "display": null,
            "flex": null,
            "flex_flow": null,
            "grid_area": null,
            "grid_auto_columns": null,
            "grid_auto_flow": null,
            "grid_auto_rows": null,
            "grid_column": null,
            "grid_gap": null,
            "grid_row": null,
            "grid_template_areas": null,
            "grid_template_columns": null,
            "grid_template_rows": null,
            "height": null,
            "justify_content": null,
            "justify_items": null,
            "left": null,
            "margin": null,
            "max_height": null,
            "max_width": null,
            "min_height": null,
            "min_width": null,
            "object_fit": null,
            "object_position": null,
            "order": null,
            "overflow": null,
            "overflow_x": null,
            "overflow_y": null,
            "padding": null,
            "right": null,
            "top": null,
            "visibility": null,
            "width": null
          }
        },
        "c2655dafe4d04c6f91430c825c7760e5": {
          "model_module": "@jupyter-widgets/controls",
          "model_name": "DescriptionStyleModel",
          "model_module_version": "1.5.0",
          "state": {
            "_model_module": "@jupyter-widgets/controls",
            "_model_module_version": "1.5.0",
            "_model_name": "DescriptionStyleModel",
            "_view_count": null,
            "_view_module": "@jupyter-widgets/base",
            "_view_module_version": "1.2.0",
            "_view_name": "StyleView",
            "description_width": ""
          }
        },
        "136a5306153244dc89c53d94e29a6b29": {
          "model_module": "@jupyter-widgets/base",
          "model_name": "LayoutModel",
          "model_module_version": "1.2.0",
          "state": {
            "_model_module": "@jupyter-widgets/base",
            "_model_module_version": "1.2.0",
            "_model_name": "LayoutModel",
            "_view_count": null,
            "_view_module": "@jupyter-widgets/base",
            "_view_module_version": "1.2.0",
            "_view_name": "LayoutView",
            "align_content": null,
            "align_items": null,
            "align_self": null,
            "border": null,
            "bottom": null,
            "display": null,
            "flex": null,
            "flex_flow": null,
            "grid_area": null,
            "grid_auto_columns": null,
            "grid_auto_flow": null,
            "grid_auto_rows": null,
            "grid_column": null,
            "grid_gap": null,
            "grid_row": null,
            "grid_template_areas": null,
            "grid_template_columns": null,
            "grid_template_rows": null,
            "height": null,
            "justify_content": null,
            "justify_items": null,
            "left": null,
            "margin": null,
            "max_height": null,
            "max_width": null,
            "min_height": null,
            "min_width": null,
            "object_fit": null,
            "object_position": null,
            "order": null,
            "overflow": null,
            "overflow_x": null,
            "overflow_y": null,
            "padding": null,
            "right": null,
            "top": null,
            "visibility": null,
            "width": null
          }
        },
        "8e8d56e240214eeb9d11603f7b7dcde0": {
          "model_module": "@jupyter-widgets/controls",
          "model_name": "ProgressStyleModel",
          "model_module_version": "1.5.0",
          "state": {
            "_model_module": "@jupyter-widgets/controls",
            "_model_module_version": "1.5.0",
            "_model_name": "ProgressStyleModel",
            "_view_count": null,
            "_view_module": "@jupyter-widgets/base",
            "_view_module_version": "1.2.0",
            "_view_name": "StyleView",
            "bar_color": null,
            "description_width": ""
          }
        },
        "298997ca6c8c4a158a9e70028c4bd881": {
          "model_module": "@jupyter-widgets/base",
          "model_name": "LayoutModel",
          "model_module_version": "1.2.0",
          "state": {
            "_model_module": "@jupyter-widgets/base",
            "_model_module_version": "1.2.0",
            "_model_name": "LayoutModel",
            "_view_count": null,
            "_view_module": "@jupyter-widgets/base",
            "_view_module_version": "1.2.0",
            "_view_name": "LayoutView",
            "align_content": null,
            "align_items": null,
            "align_self": null,
            "border": null,
            "bottom": null,
            "display": null,
            "flex": null,
            "flex_flow": null,
            "grid_area": null,
            "grid_auto_columns": null,
            "grid_auto_flow": null,
            "grid_auto_rows": null,
            "grid_column": null,
            "grid_gap": null,
            "grid_row": null,
            "grid_template_areas": null,
            "grid_template_columns": null,
            "grid_template_rows": null,
            "height": null,
            "justify_content": null,
            "justify_items": null,
            "left": null,
            "margin": null,
            "max_height": null,
            "max_width": null,
            "min_height": null,
            "min_width": null,
            "object_fit": null,
            "object_position": null,
            "order": null,
            "overflow": null,
            "overflow_x": null,
            "overflow_y": null,
            "padding": null,
            "right": null,
            "top": null,
            "visibility": null,
            "width": null
          }
        },
        "6410b071e8224e3eb14064038b40c0c5": {
          "model_module": "@jupyter-widgets/controls",
          "model_name": "DescriptionStyleModel",
          "model_module_version": "1.5.0",
          "state": {
            "_model_module": "@jupyter-widgets/controls",
            "_model_module_version": "1.5.0",
            "_model_name": "DescriptionStyleModel",
            "_view_count": null,
            "_view_module": "@jupyter-widgets/base",
            "_view_module_version": "1.2.0",
            "_view_name": "StyleView",
            "description_width": ""
          }
        },
        "957998f964174a71a1413baf84cba9b0": {
          "model_module": "@jupyter-widgets/controls",
          "model_name": "HBoxModel",
          "model_module_version": "1.5.0",
          "state": {
            "_dom_classes": [],
            "_model_module": "@jupyter-widgets/controls",
            "_model_module_version": "1.5.0",
            "_model_name": "HBoxModel",
            "_view_count": null,
            "_view_module": "@jupyter-widgets/controls",
            "_view_module_version": "1.5.0",
            "_view_name": "HBoxView",
            "box_style": "",
            "children": [
              "IPY_MODEL_6a9682f9ad8744a6b25b94a6a09741f5",
              "IPY_MODEL_362a08ebd53447e1a9825f02de190e1a",
              "IPY_MODEL_72d257bed79b48f2923ca838c1801824"
            ],
            "layout": "IPY_MODEL_8079b066eaef417a8af432515b7193dd"
          }
        },
        "6a9682f9ad8744a6b25b94a6a09741f5": {
          "model_module": "@jupyter-widgets/controls",
          "model_name": "HTMLModel",
          "model_module_version": "1.5.0",
          "state": {
            "_dom_classes": [],
            "_model_module": "@jupyter-widgets/controls",
            "_model_module_version": "1.5.0",
            "_model_name": "HTMLModel",
            "_view_count": null,
            "_view_module": "@jupyter-widgets/controls",
            "_view_module_version": "1.5.0",
            "_view_name": "HTMLView",
            "description": "",
            "description_tooltip": null,
            "layout": "IPY_MODEL_ee4ab98ac0f341798ad7115a6af13d56",
            "placeholder": "​",
            "style": "IPY_MODEL_37bfc11c1182400e9faff50be68b5384",
            "value": "100%"
          }
        },
        "362a08ebd53447e1a9825f02de190e1a": {
          "model_module": "@jupyter-widgets/controls",
          "model_name": "FloatProgressModel",
          "model_module_version": "1.5.0",
          "state": {
            "_dom_classes": [],
            "_model_module": "@jupyter-widgets/controls",
            "_model_module_version": "1.5.0",
            "_model_name": "FloatProgressModel",
            "_view_count": null,
            "_view_module": "@jupyter-widgets/controls",
            "_view_module_version": "1.5.0",
            "_view_name": "ProgressView",
            "bar_style": "success",
            "description": "",
            "description_tooltip": null,
            "layout": "IPY_MODEL_da5aabcaec35411caf01a9842c68f88d",
            "max": 100,
            "min": 0,
            "orientation": "horizontal",
            "style": "IPY_MODEL_30cd5a4f705d4982bfe9530d6b371ad3",
            "value": 100
          }
        },
        "72d257bed79b48f2923ca838c1801824": {
          "model_module": "@jupyter-widgets/controls",
          "model_name": "HTMLModel",
          "model_module_version": "1.5.0",
          "state": {
            "_dom_classes": [],
            "_model_module": "@jupyter-widgets/controls",
            "_model_module_version": "1.5.0",
            "_model_name": "HTMLModel",
            "_view_count": null,
            "_view_module": "@jupyter-widgets/controls",
            "_view_module_version": "1.5.0",
            "_view_name": "HTMLView",
            "description": "",
            "description_tooltip": null,
            "layout": "IPY_MODEL_0fadd768c2c6470196756700b8f66006",
            "placeholder": "​",
            "style": "IPY_MODEL_b938af095b434fab8d264fc2c9ac681e",
            "value": " 100/100 [00:34&lt;00:00,  2.82it/s]"
          }
        },
        "8079b066eaef417a8af432515b7193dd": {
          "model_module": "@jupyter-widgets/base",
          "model_name": "LayoutModel",
          "model_module_version": "1.2.0",
          "state": {
            "_model_module": "@jupyter-widgets/base",
            "_model_module_version": "1.2.0",
            "_model_name": "LayoutModel",
            "_view_count": null,
            "_view_module": "@jupyter-widgets/base",
            "_view_module_version": "1.2.0",
            "_view_name": "LayoutView",
            "align_content": null,
            "align_items": null,
            "align_self": null,
            "border": null,
            "bottom": null,
            "display": null,
            "flex": null,
            "flex_flow": null,
            "grid_area": null,
            "grid_auto_columns": null,
            "grid_auto_flow": null,
            "grid_auto_rows": null,
            "grid_column": null,
            "grid_gap": null,
            "grid_row": null,
            "grid_template_areas": null,
            "grid_template_columns": null,
            "grid_template_rows": null,
            "height": null,
            "justify_content": null,
            "justify_items": null,
            "left": null,
            "margin": null,
            "max_height": null,
            "max_width": null,
            "min_height": null,
            "min_width": null,
            "object_fit": null,
            "object_position": null,
            "order": null,
            "overflow": null,
            "overflow_x": null,
            "overflow_y": null,
            "padding": null,
            "right": null,
            "top": null,
            "visibility": null,
            "width": null
          }
        },
        "ee4ab98ac0f341798ad7115a6af13d56": {
          "model_module": "@jupyter-widgets/base",
          "model_name": "LayoutModel",
          "model_module_version": "1.2.0",
          "state": {
            "_model_module": "@jupyter-widgets/base",
            "_model_module_version": "1.2.0",
            "_model_name": "LayoutModel",
            "_view_count": null,
            "_view_module": "@jupyter-widgets/base",
            "_view_module_version": "1.2.0",
            "_view_name": "LayoutView",
            "align_content": null,
            "align_items": null,
            "align_self": null,
            "border": null,
            "bottom": null,
            "display": null,
            "flex": null,
            "flex_flow": null,
            "grid_area": null,
            "grid_auto_columns": null,
            "grid_auto_flow": null,
            "grid_auto_rows": null,
            "grid_column": null,
            "grid_gap": null,
            "grid_row": null,
            "grid_template_areas": null,
            "grid_template_columns": null,
            "grid_template_rows": null,
            "height": null,
            "justify_content": null,
            "justify_items": null,
            "left": null,
            "margin": null,
            "max_height": null,
            "max_width": null,
            "min_height": null,
            "min_width": null,
            "object_fit": null,
            "object_position": null,
            "order": null,
            "overflow": null,
            "overflow_x": null,
            "overflow_y": null,
            "padding": null,
            "right": null,
            "top": null,
            "visibility": null,
            "width": null
          }
        },
        "37bfc11c1182400e9faff50be68b5384": {
          "model_module": "@jupyter-widgets/controls",
          "model_name": "DescriptionStyleModel",
          "model_module_version": "1.5.0",
          "state": {
            "_model_module": "@jupyter-widgets/controls",
            "_model_module_version": "1.5.0",
            "_model_name": "DescriptionStyleModel",
            "_view_count": null,
            "_view_module": "@jupyter-widgets/base",
            "_view_module_version": "1.2.0",
            "_view_name": "StyleView",
            "description_width": ""
          }
        },
        "da5aabcaec35411caf01a9842c68f88d": {
          "model_module": "@jupyter-widgets/base",
          "model_name": "LayoutModel",
          "model_module_version": "1.2.0",
          "state": {
            "_model_module": "@jupyter-widgets/base",
            "_model_module_version": "1.2.0",
            "_model_name": "LayoutModel",
            "_view_count": null,
            "_view_module": "@jupyter-widgets/base",
            "_view_module_version": "1.2.0",
            "_view_name": "LayoutView",
            "align_content": null,
            "align_items": null,
            "align_self": null,
            "border": null,
            "bottom": null,
            "display": null,
            "flex": null,
            "flex_flow": null,
            "grid_area": null,
            "grid_auto_columns": null,
            "grid_auto_flow": null,
            "grid_auto_rows": null,
            "grid_column": null,
            "grid_gap": null,
            "grid_row": null,
            "grid_template_areas": null,
            "grid_template_columns": null,
            "grid_template_rows": null,
            "height": null,
            "justify_content": null,
            "justify_items": null,
            "left": null,
            "margin": null,
            "max_height": null,
            "max_width": null,
            "min_height": null,
            "min_width": null,
            "object_fit": null,
            "object_position": null,
            "order": null,
            "overflow": null,
            "overflow_x": null,
            "overflow_y": null,
            "padding": null,
            "right": null,
            "top": null,
            "visibility": null,
            "width": null
          }
        },
        "30cd5a4f705d4982bfe9530d6b371ad3": {
          "model_module": "@jupyter-widgets/controls",
          "model_name": "ProgressStyleModel",
          "model_module_version": "1.5.0",
          "state": {
            "_model_module": "@jupyter-widgets/controls",
            "_model_module_version": "1.5.0",
            "_model_name": "ProgressStyleModel",
            "_view_count": null,
            "_view_module": "@jupyter-widgets/base",
            "_view_module_version": "1.2.0",
            "_view_name": "StyleView",
            "bar_color": null,
            "description_width": ""
          }
        },
        "0fadd768c2c6470196756700b8f66006": {
          "model_module": "@jupyter-widgets/base",
          "model_name": "LayoutModel",
          "model_module_version": "1.2.0",
          "state": {
            "_model_module": "@jupyter-widgets/base",
            "_model_module_version": "1.2.0",
            "_model_name": "LayoutModel",
            "_view_count": null,
            "_view_module": "@jupyter-widgets/base",
            "_view_module_version": "1.2.0",
            "_view_name": "LayoutView",
            "align_content": null,
            "align_items": null,
            "align_self": null,
            "border": null,
            "bottom": null,
            "display": null,
            "flex": null,
            "flex_flow": null,
            "grid_area": null,
            "grid_auto_columns": null,
            "grid_auto_flow": null,
            "grid_auto_rows": null,
            "grid_column": null,
            "grid_gap": null,
            "grid_row": null,
            "grid_template_areas": null,
            "grid_template_columns": null,
            "grid_template_rows": null,
            "height": null,
            "justify_content": null,
            "justify_items": null,
            "left": null,
            "margin": null,
            "max_height": null,
            "max_width": null,
            "min_height": null,
            "min_width": null,
            "object_fit": null,
            "object_position": null,
            "order": null,
            "overflow": null,
            "overflow_x": null,
            "overflow_y": null,
            "padding": null,
            "right": null,
            "top": null,
            "visibility": null,
            "width": null
          }
        },
        "b938af095b434fab8d264fc2c9ac681e": {
          "model_module": "@jupyter-widgets/controls",
          "model_name": "DescriptionStyleModel",
          "model_module_version": "1.5.0",
          "state": {
            "_model_module": "@jupyter-widgets/controls",
            "_model_module_version": "1.5.0",
            "_model_name": "DescriptionStyleModel",
            "_view_count": null,
            "_view_module": "@jupyter-widgets/base",
            "_view_module_version": "1.2.0",
            "_view_name": "StyleView",
            "description_width": ""
          }
        }
      }
    }
  },
  "nbformat": 4,
  "nbformat_minor": 0
}